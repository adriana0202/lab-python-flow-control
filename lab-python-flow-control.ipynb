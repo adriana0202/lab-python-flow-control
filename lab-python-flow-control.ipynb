{
 "cells": [
  {
   "cell_type": "markdown",
   "id": "d3bfc191-8885-42ee-b0a0-bbab867c6f9f",
   "metadata": {
    "tags": []
   },
   "source": [
    "# Lab | Flow Control"
   ]
  },
  {
   "cell_type": "markdown",
   "id": "3851fcd1-cf98-4653-9c89-e003b7ec9400",
   "metadata": {},
   "source": [
    "## Exercise: Managing Customer Orders Optimized\n",
    "\n",
    "In the last lab, you were starting an online store that sells various products. To ensure smooth operations, you developed a program that manages customer orders and inventory.\n",
    "\n",
    "You did so without using flow control. Let's go a step further and improve this code.\n",
    "\n",
    "Follow the steps below to complete the exercise:\n",
    "\n",
    "1. Look at your code from the lab data structures, and improve repeated code with loops.\n",
    "\n",
    "2. Instead of asking the user to input the name of three products that a customer wants to order, do the following:\n",
    "    \n",
    "    a. Prompt the user to enter the name of a product that a customer wants to order.\n",
    "    \n",
    "    b. Add the product name to the \"customer_orders\" set.\n",
    "    \n",
    "    c. Ask the user if they want to add another product (yes/no).\n",
    "    \n",
    "    d. Continue the loop until the user does not want to add another product.\n",
    "\n",
    "3. Instead of updating the inventory by subtracting 1 from the quantity of each product, only do it for  the products that were ordered (those in \"customer_orders\")."
   ]
  },
  {
   "cell_type": "markdown",
   "id": "5587501b",
   "metadata": {},
   "source": [
    "Step 1: Look at your code from the lab data structures, and improve repeated code with loops."
   ]
  },
  {
   "cell_type": "code",
   "execution_count": null,
   "id": "25db7e26",
   "metadata": {},
   "outputs": [],
   "source": [
    "products = ['t-shirt','mug','hat','book','keychain']\n",
    "inventory = {}\n",
    "for element in products:\n",
    "    value=int(input(f'Enter your {element} stock:'))\n",
    "    inventory[element]=value"
   ]
  },
  {
   "cell_type": "code",
   "execution_count": null,
   "id": "7d8f1b4b",
   "metadata": {},
   "outputs": [],
   "source": [
    "inventory.items()"
   ]
  },
  {
   "cell_type": "code",
   "execution_count": null,
   "id": "4aacbe7a",
   "metadata": {},
   "outputs": [],
   "source": [
    "customer_orders=set()"
   ]
  },
  {
   "cell_type": "code",
   "execution_count": null,
   "id": "d9e7c6af",
   "metadata": {},
   "outputs": [],
   "source": [
    "print(customer_orders)"
   ]
  },
  {
   "cell_type": "code",
   "execution_count": null,
   "id": "eb8486b2",
   "metadata": {},
   "outputs": [],
   "source": [
    "# this while loop will only take three products from the user before printing the new set\n",
    "\n",
    "while len(customer_orders) < 3: \n",
    "    product_name = input('Enter the name of a product that a customer wants to order:')\n",
    "    customer_orders.add(product_name)\n",
    "print(customer_orders)"
   ]
  },
  {
   "cell_type": "code",
   "execution_count": null,
   "id": "c2115b17",
   "metadata": {},
   "outputs": [],
   "source": [
    "# Step 7: \n",
    "# Calculate the following order statistics:\n",
    "# Total Products Ordered: The total number of products in the customer_orders set.\n",
    "# Percentage of Products Ordered: The percentage of products ordered compared to the total available products\n",
    "\n",
    "total_products_ordered=len(customer_orders) # number of products ordered\n",
    "print(total_products_ordered)\n",
    "\n",
    "total_available_products=len(inventory.values()) # total available products\n",
    "print(total_available_products)"
   ]
  },
  {
   "cell_type": "code",
   "execution_count": null,
   "id": "d117c035",
   "metadata": {},
   "outputs": [],
   "source": [
    "# Percentage of Products Ordered: \n",
    "percentage_ordered= print('Percentage order:'\n",
    "                          +(str((total_products_ordered/total_available_products)*100))+'%')"
   ]
  },
  {
   "cell_type": "code",
   "execution_count": null,
   "id": "c755b40c",
   "metadata": {},
   "outputs": [],
   "source": [
    "print(customer_orders)"
   ]
  },
  {
   "cell_type": "code",
   "execution_count": null,
   "id": "dee5b0a9",
   "metadata": {},
   "outputs": [],
   "source": [
    "for key in customer_orders:\n",
    "    inventory[key]=inventory[key]-1\n",
    "    \n",
    "# Loop to reduce following lines:    \n",
    "#     inventory['item']=inventory['t-shirt']-1\n",
    "#     inventory['key-chain']=inventory['keychain']-1\n",
    "#     inventory['mug']=inventory['mug']-1\n",
    "inventory"
   ]
  },
  {
   "cell_type": "markdown",
   "id": "469562ea",
   "metadata": {},
   "source": [
    "Step 2. Instead of asking the user to input the name of three products that a customer wants to order, do the following:\n",
    "\n",
    "a. Prompt the user to enter the name of a product that a customer wants to order.\n",
    "\n",
    "b. Add the product name to the \"customer_orders\" set.\n",
    "\n",
    "c. Ask the user if they want to add another product (yes/no).\n",
    "\n",
    "d. Continue the loop until the user does not want to add another product."
   ]
  },
  {
   "cell_type": "code",
   "execution_count": null,
   "id": "83ab4873",
   "metadata": {},
   "outputs": [],
   "source": []
  },
  {
   "cell_type": "code",
   "execution_count": 1,
   "id": "cc0c948b",
   "metadata": {},
   "outputs": [],
   "source": [
    "# # this while loop will only take three products from the user before printing the new set\n",
    "\n",
    "# while len(customer_orders) < 3: \n",
    "#     product_name = input('Enter the name of a product that a customer wants to order:')\n",
    "#     customer_orders.add(product_name)\n",
    "# print(customer_orders)"
   ]
  },
  {
   "cell_type": "code",
   "execution_count": 2,
   "id": "ececeae8",
   "metadata": {},
   "outputs": [
    {
     "name": "stdout",
     "output_type": "stream",
     "text": [
      "Enter your t-shirt stock:2\n",
      "Enter your mug stock:34\n",
      "Enter your hat stock:5\n",
      "Enter your book stock:6\n",
      "Enter your keychain stock:7\n"
     ]
    }
   ],
   "source": [
    "products = ['t-shirt','mug','hat','book','keychain']\n",
    "inventory = {}\n",
    "for element in products:\n",
    "    value=int(input(f'Enter your {element} stock:'))\n",
    "    inventory[element]=value"
   ]
  },
  {
   "cell_type": "code",
   "execution_count": 3,
   "id": "293599c2",
   "metadata": {},
   "outputs": [
    {
     "data": {
      "text/plain": [
       "{'t-shirt': 2, 'mug': 34, 'hat': 5, 'book': 6, 'keychain': 7}"
      ]
     },
     "execution_count": 3,
     "metadata": {},
     "output_type": "execute_result"
    }
   ],
   "source": [
    "inventory"
   ]
  },
  {
   "cell_type": "code",
   "execution_count": 4,
   "id": "d0272793",
   "metadata": {},
   "outputs": [],
   "source": [
    "customer_orders=set()"
   ]
  },
  {
   "cell_type": "code",
   "execution_count": 5,
   "id": "4047541d",
   "metadata": {},
   "outputs": [
    {
     "name": "stdout",
     "output_type": "stream",
     "text": [
      "set()\n"
     ]
    }
   ],
   "source": [
    "print(customer_orders)"
   ]
  },
  {
   "cell_type": "code",
   "execution_count": 6,
   "id": "67e5dd96",
   "metadata": {
    "scrolled": true
   },
   "outputs": [
    {
     "name": "stdout",
     "output_type": "stream",
     "text": [
      "Please enter the name of the product you want to order:cake\n",
      "Product not available, please enter another product\n",
      "Do you want to add another product? (yes/no): yes\n",
      "Please enter the name of the product you want to order:mug\n",
      "Do you want to add another product? (yes/no): no\n",
      "Products ordered: {'mug'}\n"
     ]
    }
   ],
   "source": [
    "# products = products available in store\n",
    "products = ['t-shirt','mug','hat','book','keychain']\n",
    "\n",
    "# set the variable that will stop/exit the loop: \n",
    "new_order=True\n",
    "\n",
    "while new_order:\n",
    "    product_name=input('Please enter the name of the product you want to order:')\n",
    "    if product_name in products: #take into account and ADD to set only product_names in products list\n",
    "    #product_name = product to be ordered by user \n",
    "        customer_orders.add(product_name)\n",
    "    else:\n",
    "        print('Product not available, please enter another product')\n",
    "    user_input=input('Do you want to add another product? (yes/no): ')\n",
    "    if user_input.lower() != 'yes':\n",
    "        new_order=False\n",
    "print('Products ordered:', customer_orders)"
   ]
  },
  {
   "cell_type": "markdown",
   "id": "c8832e13",
   "metadata": {},
   "source": [
    "3. Instead of updating the inventory by subtracting 1 from the quantity of each product, only do it for the products that were ordered (those in \"customer_orders\")."
   ]
  },
  {
   "cell_type": "code",
   "execution_count": 7,
   "id": "605fd772",
   "metadata": {},
   "outputs": [
    {
     "data": {
      "text/plain": [
       "{'t-shirt': 2, 'mug': 34, 'hat': 5, 'book': 6, 'keychain': 7}"
      ]
     },
     "execution_count": 7,
     "metadata": {},
     "output_type": "execute_result"
    }
   ],
   "source": [
    "inventory"
   ]
  },
  {
   "cell_type": "code",
   "execution_count": 8,
   "id": "d6fd5e5e",
   "metadata": {},
   "outputs": [
    {
     "name": "stdout",
     "output_type": "stream",
     "text": [
      "{'mug'}\n"
     ]
    }
   ],
   "source": [
    "print(customer_orders)"
   ]
  },
  {
   "cell_type": "code",
   "execution_count": 9,
   "id": "7a81ec0d",
   "metadata": {},
   "outputs": [
    {
     "data": {
      "text/plain": [
       "{'t-shirt': 2, 'mug': 33, 'hat': 5, 'book': 6, 'keychain': 7}"
      ]
     },
     "execution_count": 9,
     "metadata": {},
     "output_type": "execute_result"
    }
   ],
   "source": [
    "for key in customer_orders:\n",
    "    inventory[key]=inventory[key]-1\n",
    "\n",
    "inventory"
   ]
  },
  {
   "cell_type": "markdown",
   "id": "7319a6cc",
   "metadata": {},
   "source": [
    "# "
   ]
  }
 ],
 "metadata": {
  "kernelspec": {
   "display_name": "Python 3 (ipykernel)",
   "language": "python",
   "name": "python3"
  },
  "language_info": {
   "codemirror_mode": {
    "name": "ipython",
    "version": 3
   },
   "file_extension": ".py",
   "mimetype": "text/x-python",
   "name": "python",
   "nbconvert_exporter": "python",
   "pygments_lexer": "ipython3",
   "version": "3.11.5"
  }
 },
 "nbformat": 4,
 "nbformat_minor": 5
}
